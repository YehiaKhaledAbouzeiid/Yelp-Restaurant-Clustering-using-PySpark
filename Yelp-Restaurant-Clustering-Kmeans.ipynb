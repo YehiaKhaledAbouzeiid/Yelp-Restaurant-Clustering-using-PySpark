{
 "cells": [
  {
   "cell_type": "code",
   "execution_count": 36,
   "id": "296f1747",
   "metadata": {},
   "outputs": [],
   "source": [
    "from pyspark.sql.types import *\n",
    "from pyspark.sql.functions import *\n",
    "from pyspark.ml.clustering import KMeans\n",
    "from pyspark.ml.feature import StringIndexer\n",
    "from pyspark.ml.feature import VectorAssembler\n",
    "from pyspark.sql import SQLContext\n",
    "from pyspark.sql import SparkSession\n"
   ]
  },
  {
   "cell_type": "code",
   "execution_count": 2,
   "id": "e06f6b9e",
   "metadata": {},
   "outputs": [
    {
     "name": "stdout",
     "output_type": "stream",
     "text": [
      "+------------+-----+--------+-------------+--------------+-----------------+-----------+------------------+--------+-----------+--------------------+--------+-------------+-----+\n",
      "|review_count|stars|Take-out|GoodFor_lunch|GoodFor_dinner|GoodFor_breakfast|Noise_Level|Takes_Reservations|Delivery|Parking_lot|WheelchairAccessible| Alcohol|WaiterService|Wi-Fi|\n",
      "+------------+-----+--------+-------------+--------------+-----------------+-----------+------------------+--------+-----------+--------------------+--------+-------------+-----+\n",
      "|           4|    1|    TRUE|        FALSE|         FALSE|            FALSE|    average|             FALSE|   FALSE|      FALSE|                 N/A|    none|        FALSE|  N/A|\n",
      "|          20|    1|    TRUE|         TRUE|         FALSE|            FALSE|    average|             FALSE|   FALSE|      FALSE|                 N/A|full_bar|         TRUE|   no|\n",
      "|          21|    1|    TRUE|        FALSE|          TRUE|            FALSE|       loud|             FALSE|   FALSE|       TRUE|                 N/A|full_bar|         TRUE| free|\n",
      "|           8|    1|    TRUE|        FALSE|         FALSE|            FALSE|        N/A|             FALSE|   FALSE|      FALSE|                TRUE|    none|         TRUE|  N/A|\n",
      "|           4|    1|     N/A|          N/A|           N/A|              N/A|        N/A|               N/A|     N/A|       TRUE|                TRUE|     N/A|          N/A|  N/A|\n",
      "+------------+-----+--------+-------------+--------------+-----------------+-----------+------------------+--------+-----------+--------------------+--------+-------------+-----+\n",
      "only showing top 5 rows\n",
      "\n"
     ]
    }
   ],
   "source": [
    "from pyspark.sql import SparkSession\n",
    "from pyspark.sql.types import StructType, StructField, StringType, IntegerType, FloatType\n",
    "\n",
    "# Create a SparkSession\n",
    "spark = SparkSession.builder.getOrCreate()\n",
    "\n",
    "# Define the schema for the CSV dataset\n",
    "\n",
    "csv_path = \"Food2.csv\"\n",
    "data = spark.read.csv(csv_path,  header=True)\n",
    "\n",
    "# Perform operations on the DataFrame\n",
    "data.show(5)\n"
   ]
  },
  {
   "cell_type": "code",
   "execution_count": 38,
   "id": "b4d601a8",
   "metadata": {},
   "outputs": [
    {
     "data": {
      "text/plain": [
       "31387"
      ]
     },
     "execution_count": 38,
     "metadata": {},
     "output_type": "execute_result"
    }
   ],
   "source": [
    "data.count()"
   ]
  },
  {
   "cell_type": "code",
   "execution_count": 39,
   "id": "2a7ed086",
   "metadata": {},
   "outputs": [
    {
     "data": {
      "text/plain": [
       "14"
      ]
     },
     "execution_count": 39,
     "metadata": {},
     "output_type": "execute_result"
    }
   ],
   "source": [
    "len(data.columns)"
   ]
  },
  {
   "cell_type": "code",
   "execution_count": 40,
   "id": "5334820a",
   "metadata": {},
   "outputs": [],
   "source": [
    "df = data.select(\"review_count\",\"Take-out\", \"GoodFor_lunch\", \"GoodFor_dinner\", \"GoodFor_breakfast\",\"stars\")"
   ]
  },
  {
   "cell_type": "code",
   "execution_count": 41,
   "id": "886a1260",
   "metadata": {},
   "outputs": [
    {
     "name": "stdout",
     "output_type": "stream",
     "text": [
      "+------------+--------+-------------+--------------+-----------------+-----+\n",
      "|review_count|Take-out|GoodFor_lunch|GoodFor_dinner|GoodFor_breakfast|stars|\n",
      "+------------+--------+-------------+--------------+-----------------+-----+\n",
      "|           4|    TRUE|        FALSE|         FALSE|            FALSE|    1|\n",
      "|          20|    TRUE|         TRUE|         FALSE|            FALSE|    1|\n",
      "|          21|    TRUE|        FALSE|          TRUE|            FALSE|    1|\n",
      "|           8|    TRUE|        FALSE|         FALSE|            FALSE|    1|\n",
      "|           4|     N/A|          N/A|           N/A|              N/A|    1|\n",
      "+------------+--------+-------------+--------------+-----------------+-----+\n",
      "only showing top 5 rows\n",
      "\n"
     ]
    }
   ],
   "source": [
    "df.show(5)"
   ]
  },
  {
   "cell_type": "code",
   "execution_count": 42,
   "id": "d931edb0",
   "metadata": {},
   "outputs": [
    {
     "data": {
      "text/plain": [
       "6"
      ]
     },
     "execution_count": 42,
     "metadata": {},
     "output_type": "execute_result"
    }
   ],
   "source": [
    "len(df.columns)"
   ]
  },
  {
   "cell_type": "code",
   "execution_count": 43,
   "id": "ba0de9ad",
   "metadata": {},
   "outputs": [
    {
     "name": "stdout",
     "output_type": "stream",
     "text": [
      "root\n",
      " |-- review_count: string (nullable = true)\n",
      " |-- Take-out: string (nullable = true)\n",
      " |-- GoodFor_lunch: string (nullable = true)\n",
      " |-- GoodFor_dinner: string (nullable = true)\n",
      " |-- GoodFor_breakfast: string (nullable = true)\n",
      " |-- stars: string (nullable = true)\n",
      "\n"
     ]
    }
   ],
   "source": [
    "df.printSchema()"
   ]
  },
  {
   "cell_type": "code",
   "execution_count": 44,
   "id": "69cf5d72",
   "metadata": {},
   "outputs": [
    {
     "name": "stdout",
     "output_type": "stream",
     "text": [
      "+-------+------------------+--------+-------------+--------------+-----------------+------------------+\n",
      "|summary|      review_count|Take-out|GoodFor_lunch|GoodFor_dinner|GoodFor_breakfast|             stars|\n",
      "+-------+------------------+--------+-------------+--------------+-----------------+------------------+\n",
      "|  count|             31387|   31387|        31387|         31387|            31387|             31387|\n",
      "|   mean|51.130659190110556|    null|         null|          null|             null|0.8454774269602064|\n",
      "| stddev|130.19271863934227|    null|         null|          null|             null|0.3614547136180666|\n",
      "|    min|                10|   FALSE|        FALSE|         FALSE|            FALSE|                 0|\n",
      "|    max|               990|    TRUE|         TRUE|          TRUE|             TRUE|                 1|\n",
      "+-------+------------------+--------+-------------+--------------+-----------------+------------------+\n",
      "\n"
     ]
    }
   ],
   "source": [
    "df.describe().show()"
   ]
  },
  {
   "cell_type": "code",
   "execution_count": 45,
   "id": "0f4610ac",
   "metadata": {},
   "outputs": [
    {
     "data": {
      "text/plain": [
       "[Row(review_count='4', Take-out='TRUE', GoodFor_lunch='FALSE', GoodFor_dinner='FALSE', GoodFor_breakfast='FALSE', stars='1'),\n",
       " Row(review_count='20', Take-out='TRUE', GoodFor_lunch='TRUE', GoodFor_dinner='FALSE', GoodFor_breakfast='FALSE', stars='1'),\n",
       " Row(review_count='21', Take-out='TRUE', GoodFor_lunch='FALSE', GoodFor_dinner='TRUE', GoodFor_breakfast='FALSE', stars='1'),\n",
       " Row(review_count='8', Take-out='TRUE', GoodFor_lunch='FALSE', GoodFor_dinner='FALSE', GoodFor_breakfast='FALSE', stars='1'),\n",
       " Row(review_count='4', Take-out='N/A', GoodFor_lunch='N/A', GoodFor_dinner='N/A', GoodFor_breakfast='N/A', stars='1')]"
      ]
     },
     "execution_count": 45,
     "metadata": {},
     "output_type": "execute_result"
    }
   ],
   "source": [
    "df.head(5)"
   ]
  },
  {
   "cell_type": "code",
   "execution_count": 47,
   "id": "3dec5918",
   "metadata": {},
   "outputs": [
    {
     "name": "stdout",
     "output_type": "stream",
     "text": [
      "+------------+-----+\n",
      "|review_count|count|\n",
      "+------------+-----+\n",
      "|         296|    5|\n",
      "|         829|    2|\n",
      "|         467|    1|\n",
      "|         125|   24|\n",
      "|        3281|    1|\n",
      "|         451|    3|\n",
      "|         870|    1|\n",
      "|         666|    1|\n",
      "|           7| 1282|\n",
      "|         124|   28|\n",
      "|          51|  106|\n",
      "|         307|    4|\n",
      "|         718|    2|\n",
      "|         613|    1|\n",
      "|         475|    2|\n",
      "|         205|    9|\n",
      "|         169|   11|\n",
      "|         334|    3|\n",
      "|         577|    1|\n",
      "|         544|    1|\n",
      "+------------+-----+\n",
      "only showing top 20 rows\n",
      "\n"
     ]
    }
   ],
   "source": [
    "df.groupBy(\"review_count\").count().show()"
   ]
  },
  {
   "cell_type": "code",
   "execution_count": 48,
   "id": "5633a504",
   "metadata": {},
   "outputs": [
    {
     "name": "stdout",
     "output_type": "stream",
     "text": [
      "+--------+-----+\n",
      "|Take-out|count|\n",
      "+--------+-----+\n",
      "|   FALSE| 2024|\n",
      "|    TRUE|20127|\n",
      "|     N/A| 9236|\n",
      "+--------+-----+\n",
      "\n"
     ]
    }
   ],
   "source": [
    "df.groupBy(\"Take-out\").count().show()"
   ]
  },
  {
   "cell_type": "code",
   "execution_count": 49,
   "id": "7b37f525",
   "metadata": {},
   "outputs": [
    {
     "name": "stdout",
     "output_type": "stream",
     "text": [
      "+-------------+-----+\n",
      "|GoodFor_lunch|count|\n",
      "+-------------+-----+\n",
      "|        FALSE|13542|\n",
      "|         TRUE| 7178|\n",
      "|          N/A|10667|\n",
      "+-------------+-----+\n",
      "\n"
     ]
    }
   ],
   "source": [
    "df.groupBy(\"GoodFor_lunch\").count().show()"
   ]
  },
  {
   "cell_type": "code",
   "execution_count": 50,
   "id": "9a56777c",
   "metadata": {},
   "outputs": [
    {
     "name": "stdout",
     "output_type": "stream",
     "text": [
      "+--------------+-----+\n",
      "|GoodFor_dinner|count|\n",
      "+--------------+-----+\n",
      "|         FALSE|15588|\n",
      "|          TRUE| 5132|\n",
      "|           N/A|10667|\n",
      "+--------------+-----+\n",
      "\n"
     ]
    }
   ],
   "source": [
    "df.groupBy(\"GoodFor_dinner\").count().show()"
   ]
  },
  {
   "cell_type": "code",
   "execution_count": 51,
   "id": "2db6be8f",
   "metadata": {},
   "outputs": [
    {
     "name": "stdout",
     "output_type": "stream",
     "text": [
      "+-----------------+-----+\n",
      "|GoodFor_breakfast|count|\n",
      "+-----------------+-----+\n",
      "|            FALSE|19016|\n",
      "|             TRUE| 1712|\n",
      "|              N/A|10659|\n",
      "+-----------------+-----+\n",
      "\n"
     ]
    }
   ],
   "source": [
    "df.groupBy(\"GoodFor_breakfast\").count().show()"
   ]
  },
  {
   "cell_type": "code",
   "execution_count": 52,
   "id": "13a88cb4",
   "metadata": {},
   "outputs": [
    {
     "name": "stdout",
     "output_type": "stream",
     "text": [
      "+-----+-----+\n",
      "|stars|count|\n",
      "+-----+-----+\n",
      "|    0| 4850|\n",
      "|    1|26537|\n",
      "+-----+-----+\n",
      "\n"
     ]
    }
   ],
   "source": [
    "df.groupBy(\"stars\").count().show()"
   ]
  },
  {
   "cell_type": "code",
   "execution_count": 62,
   "id": "53a2bf90",
   "metadata": {
    "scrolled": true
   },
   "outputs": [],
   "source": [
    "def indexStringColumns(df, cols):\n",
    "    #variable newdf will be updated several times\n",
    "    newdata = df\n",
    "    for c in cols:\n",
    "        si = StringIndexer(inputCol=c, outputCol=c+\"-x\")\n",
    "        sm = si.fit(newdata)\n",
    "        newdata = sm.transform(newdata).drop(c)\n",
    "        newdata = newdata.withColumnRenamed(c+\"-x\", c)\n",
    "    return newdata\n",
    "\n",
    "dfnumeric = indexStringColumns(data, [\"review_count\",\"Take-out\",\"GoodFor_lunch\", \"GoodFor_dinner\", \"GoodFor_breakfast\",\"stars\"])\n",
    "\n",
    "#dfnumeric[\"Take-out\",\"GoodFor_lunch\", \"GoodFor_dinner\", \"GoodFor_breakfast\"].show()"
   ]
  },
  {
   "cell_type": "code",
   "execution_count": 67,
   "id": "aca7818d",
   "metadata": {},
   "outputs": [
    {
     "name": "stdout",
     "output_type": "stream",
     "text": [
      "root\n",
      " |-- Noise_Level: string (nullable = true)\n",
      " |-- Takes_Reservations: string (nullable = true)\n",
      " |-- Delivery: string (nullable = true)\n",
      " |-- Parking_lot: string (nullable = true)\n",
      " |-- WheelchairAccessible: string (nullable = true)\n",
      " |-- Alcohol: string (nullable = true)\n",
      " |-- WaiterService: string (nullable = true)\n",
      " |-- Wi-Fi: string (nullable = true)\n",
      " |-- review_count: double (nullable = false)\n",
      " |-- Take-out: double (nullable = false)\n",
      " |-- GoodFor_lunch: double (nullable = false)\n",
      " |-- GoodFor_dinner: double (nullable = false)\n",
      " |-- GoodFor_breakfast: double (nullable = false)\n",
      " |-- stars: double (nullable = false)\n",
      "\n"
     ]
    }
   ],
   "source": [
    "dfnumeric.printSchema()"
   ]
  },
  {
   "cell_type": "code",
   "execution_count": 63,
   "id": "a2d9e213",
   "metadata": {},
   "outputs": [
    {
     "name": "stdout",
     "output_type": "stream",
     "text": [
      "+----------------+-------------+-------------+--------------+-----------------+-------------+\n",
      "|    review_count|     Take-out|GoodFor_lunch|GoodFor_dinner|GoodFor_breakfast|        stars|\n",
      "+----------------+-------------+-------------+--------------+-----------------+-------------+\n",
      "| (745,[1],[1.0])|(3,[0],[1.0])|(3,[0],[1.0])| (3,[0],[1.0])|    (3,[0],[1.0])|(2,[0],[1.0])|\n",
      "|(745,[17],[1.0])|(3,[0],[1.0])|(3,[2],[1.0])| (3,[0],[1.0])|    (3,[0],[1.0])|(2,[0],[1.0])|\n",
      "|(745,[18],[1.0])|(3,[0],[1.0])|(3,[0],[1.0])| (3,[2],[1.0])|    (3,[0],[1.0])|(2,[0],[1.0])|\n",
      "| (745,[5],[1.0])|(3,[0],[1.0])|(3,[0],[1.0])| (3,[0],[1.0])|    (3,[0],[1.0])|(2,[0],[1.0])|\n",
      "| (745,[1],[1.0])|(3,[1],[1.0])|(3,[1],[1.0])| (3,[1],[1.0])|    (3,[1],[1.0])|(2,[0],[1.0])|\n",
      "| (745,[4],[1.0])|(3,[0],[1.0])|(3,[0],[1.0])| (3,[0],[1.0])|    (3,[0],[1.0])|(2,[0],[1.0])|\n",
      "|(745,[58],[1.0])|(3,[0],[1.0])|(3,[0],[1.0])| (3,[0],[1.0])|    (3,[2],[1.0])|(2,[0],[1.0])|\n",
      "| (745,[3],[1.0])|(3,[0],[1.0])|(3,[0],[1.0])| (3,[0],[1.0])|    (3,[0],[1.0])|(2,[0],[1.0])|\n",
      "| (745,[4],[1.0])|(3,[0],[1.0])|(3,[0],[1.0])| (3,[2],[1.0])|    (3,[0],[1.0])|(2,[0],[1.0])|\n",
      "| (745,[2],[1.0])|(3,[0],[1.0])|(3,[1],[1.0])| (3,[1],[1.0])|    (3,[1],[1.0])|(2,[0],[1.0])|\n",
      "| (745,[6],[1.0])|(3,[0],[1.0])|(3,[1],[1.0])| (3,[1],[1.0])|    (3,[1],[1.0])|(2,[1],[1.0])|\n",
      "| (745,[6],[1.0])|(3,[0],[1.0])|(3,[0],[1.0])| (3,[0],[1.0])|    (3,[0],[1.0])|(2,[0],[1.0])|\n",
      "|(745,[59],[1.0])|(3,[0],[1.0])|(3,[0],[1.0])| (3,[2],[1.0])|    (3,[0],[1.0])|(2,[0],[1.0])|\n",
      "| (745,[0],[1.0])|(3,[0],[1.0])|(3,[1],[1.0])| (3,[1],[1.0])|    (3,[1],[1.0])|(2,[1],[1.0])|\n",
      "| (745,[0],[1.0])|(3,[0],[1.0])|(3,[1],[1.0])| (3,[1],[1.0])|    (3,[1],[1.0])|(2,[0],[1.0])|\n",
      "|(745,[17],[1.0])|(3,[1],[1.0])|(3,[1],[1.0])| (3,[1],[1.0])|    (3,[1],[1.0])|(2,[0],[1.0])|\n",
      "| (745,[0],[1.0])|(3,[1],[1.0])|(3,[1],[1.0])| (3,[1],[1.0])|    (3,[1],[1.0])|(2,[1],[1.0])|\n",
      "|(745,[45],[1.0])|(3,[0],[1.0])|(3,[0],[1.0])| (3,[0],[1.0])|    (3,[0],[1.0])|(2,[1],[1.0])|\n",
      "|(745,[27],[1.0])|(3,[2],[1.0])|(3,[0],[1.0])| (3,[0],[1.0])|    (3,[0],[1.0])|(2,[0],[1.0])|\n",
      "|(745,[23],[1.0])|(3,[0],[1.0])|(3,[2],[1.0])| (3,[0],[1.0])|    (3,[0],[1.0])|(2,[0],[1.0])|\n",
      "+----------------+-------------+-------------+--------------+-----------------+-------------+\n",
      "only showing top 20 rows\n",
      "\n"
     ]
    }
   ],
   "source": [
    "def oneHotEncodeColumns(df, cols):\n",
    "    from pyspark.ml.feature import OneHotEncoder, OneHotEncoderModel\n",
    "    newdf = df\n",
    "    for c in cols:\n",
    "        onehotenc = OneHotEncoder(inputCol=c, outputCol=c+\"-onehot\", dropLast=False)\n",
    "        model = onehotenc.fit(newdf)\n",
    "        newdf = model.transform(newdf).drop(c)\n",
    "        newdf = newdf.withColumnRenamed(c+\"-onehot\", c)\n",
    "    return newdf\n",
    "\n",
    "dfhot = oneHotEncodeColumns(dfnumeric, [\"review_count\",\"Take-out\",\"GoodFor_lunch\", \"GoodFor_dinner\", \"GoodFor_breakfast\",\"stars\"])\n",
    "dfhot.select(\"review_count\",\"Take-out\",\"GoodFor_lunch\", \"GoodFor_dinner\", \"GoodFor_breakfast\",\"stars\").show()\n"
   ]
  },
  {
   "cell_type": "code",
   "execution_count": 65,
   "id": "6e7145f1",
   "metadata": {},
   "outputs": [],
   "source": [
    "from pyspark.ml.feature import VectorAssembler, StringIndexer\n",
    "from pyspark.sql.functions import col\n",
    "from pyspark.sql.types import DoubleType\n",
    "from pyspark.sql import SparkSession\n",
    "\n",
    "# Create a SparkSession\n",
    "spark = SparkSession.builder.getOrCreate()\n",
    "\n",
    "# Assuming `dfhot` is your DataFrame after one-hot encoding and indexing\n",
    "\n",
    "# Convert remaining string columns to DoubleType\n",
    "string_cols = ['Alcohol', 'Noise_Level', 'WheelchairAccessible', 'Parking_lot', 'WaiterService', 'Delivery',\n",
    "               'Takes_Reservations', 'Wi-Fi']\n",
    "\n",
    "for col_name in string_cols:\n",
    "    dfhot = dfhot.withColumn(col_name, col(col_name).cast(DoubleType()))\n",
    "\n",
    "# Convert 'stars' and 'review_count' columns to DoubleType\n",
    "#dfhot = dfhot.withColumn(\"stars\", col(\"stars\").cast(DoubleType()))\n",
    "#dfhot = dfhot.withColumn(\"review_count\", col(\"review_count\").cast(DoubleType()))\n",
    "\n",
    "# Create VectorAssembler\n",
    "input_cols = list(set(dfhot.columns) - set(string_cols))\n",
    "assembler = VectorAssembler(inputCols=input_cols, outputCol=\"features\")\n",
    "\n",
    "# Transform the DataFrame\n",
    "train = assembler.transform(dfhot)\n",
    "\n",
    "# Rest of the code\n",
    "knum = 5\n",
    "kmeans = KMeans(featuresCol=assembler.getOutputCol(), predictionCol=\"cluster\", k=knum, seed=0)\n",
    "model = kmeans.fit(train)\n"
   ]
  },
  {
   "cell_type": "code",
   "execution_count": 69,
   "id": "be16a00d",
   "metadata": {},
   "outputs": [
    {
     "name": "stdout",
     "output_type": "stream",
     "text": [
      "+-----------+------------------+--------+-----------+--------------------+-------+-------------+-----+---------------+-------------+-------------+--------------+-----------------+-------------+--------------------+\n",
      "|Noise_Level|Takes_Reservations|Delivery|Parking_lot|WheelchairAccessible|Alcohol|WaiterService|Wi-Fi|   review_count|     Take-out|GoodFor_lunch|GoodFor_dinner|GoodFor_breakfast|        stars|            features|\n",
      "+-----------+------------------+--------+-----------+--------------------+-------+-------------+-----+---------------+-------------+-------------+--------------+-----------------+-------------+--------------------+\n",
      "|       null|              null|    null|       null|                null|   null|         null| null|(745,[1],[1.0])|(3,[0],[1.0])|(3,[0],[1.0])| (3,[0],[1.0])|    (3,[0],[1.0])|(2,[0],[1.0])|(759,[0,3,747,750...|\n",
      "+-----------+------------------+--------+-----------+--------------------+-------+-------------+-----+---------------+-------------+-------------+--------------+-----------------+-------------+--------------------+\n",
      "only showing top 1 row\n",
      "\n"
     ]
    }
   ],
   "source": [
    "train.show(1)"
   ]
  },
  {
   "cell_type": "code",
   "execution_count": 8,
   "id": "59e82d84",
   "metadata": {},
   "outputs": [
    {
     "name": "stdout",
     "output_type": "stream",
     "text": [
      "Model Created!\n"
     ]
    }
   ],
   "source": [
    "print (\"Model Created!\")"
   ]
  },
  {
   "cell_type": "code",
   "execution_count": 70,
   "id": "693b69c0",
   "metadata": {},
   "outputs": [
    {
     "data": {
      "text/plain": [
       "KMeansModel: uid=KMeans_4e3fa46d1721, k=5, distanceMeasure=euclidean, numFeatures=759"
      ]
     },
     "execution_count": 70,
     "metadata": {},
     "output_type": "execute_result"
    }
   ],
   "source": [
    "model"
   ]
  },
  {
   "cell_type": "code",
   "execution_count": 9,
   "id": "d3457897",
   "metadata": {},
   "outputs": [
    {
     "name": "stdout",
     "output_type": "stream",
     "text": [
      "+-------+-----+\n",
      "|cluster|count|\n",
      "+-------+-----+\n",
      "|      0|26970|\n",
      "|      1|   14|\n",
      "|      2|  127|\n",
      "|      3|  696|\n",
      "|      4| 3580|\n",
      "+-------+-----+\n",
      "\n"
     ]
    }
   ],
   "source": [
    "# data set does not need to be divided to train and test\n",
    "prediction = model.transform(train)\n",
    "prediction.groupBy(\"cluster\").count().orderBy(\"cluster\").show()"
   ]
  },
  {
   "cell_type": "code",
   "execution_count": 73,
   "id": "04ed085d",
   "metadata": {},
   "outputs": [],
   "source": [
    "cluster=model.transform(train)"
   ]
  },
  {
   "cell_type": "code",
   "execution_count": 75,
   "id": "077bd3f0",
   "metadata": {},
   "outputs": [
    {
     "name": "stdout",
     "output_type": "stream",
     "text": [
      "+-----------+------------------+--------+-----------+--------------------+-------+-------------+-----+---------------+-------------+-------------+--------------+-----------------+-------------+--------------------+-------+\n",
      "|Noise_Level|Takes_Reservations|Delivery|Parking_lot|WheelchairAccessible|Alcohol|WaiterService|Wi-Fi|   review_count|     Take-out|GoodFor_lunch|GoodFor_dinner|GoodFor_breakfast|        stars|            features|cluster|\n",
      "+-----------+------------------+--------+-----------+--------------------+-------+-------------+-----+---------------+-------------+-------------+--------------+-----------------+-------------+--------------------+-------+\n",
      "|       null|              null|    null|       null|                null|   null|         null| null|(745,[1],[1.0])|(3,[0],[1.0])|(3,[0],[1.0])| (3,[0],[1.0])|    (3,[0],[1.0])|(2,[0],[1.0])|(759,[0,3,747,750...|      0|\n",
      "+-----------+------------------+--------+-----------+--------------------+-------+-------------+-----+---------------+-------------+-------------+--------------+-----------------+-------------+--------------------+-------+\n",
      "only showing top 1 row\n",
      "\n"
     ]
    }
   ],
   "source": [
    "cluster.show(1)"
   ]
  },
  {
   "cell_type": "code",
   "execution_count": 84,
   "id": "8218a6d3",
   "metadata": {},
   "outputs": [
    {
     "name": "stdout",
     "output_type": "stream",
     "text": [
      "+-------------+-------+-----+\n",
      "|        stars|cluster|count|\n",
      "+-------------+-------+-----+\n",
      "|(2,[0],[1.0])|      0| 8111|\n",
      "|(2,[1],[1.0])|      4|   21|\n",
      "|(2,[1],[1.0])|      2| 2293|\n",
      "|(2,[0],[1.0])|      1| 8819|\n",
      "|(2,[1],[1.0])|      3|  691|\n",
      "|(2,[1],[1.0])|      1| 1845|\n",
      "|(2,[0],[1.0])|      4| 3133|\n",
      "|(2,[0],[1.0])|      3| 6474|\n",
      "+-------------+-------+-----+\n",
      "\n"
     ]
    }
   ],
   "source": [
    "cluster.groupBy(\"stars\",\"cluster\").count().show()"
   ]
  },
  {
   "cell_type": "code",
   "execution_count": 10,
   "id": "dbb8f368",
   "metadata": {},
   "outputs": [
    {
     "name": "stdout",
     "output_type": "stream",
     "text": [
      "Cluster0\n",
      "+-----+------------+-------------+-------------+--------------+-----------------+\n",
      "|stars|review_count|     Take-out|GoodFor_lunch|GoodFor_dinner|GoodFor_breakfast|\n",
      "+-----+------------+-------------+-------------+--------------+-----------------+\n",
      "|  1.0|         4.0|(3,[0],[1.0])|(3,[0],[1.0])| (3,[0],[1.0])|    (3,[0],[1.0])|\n",
      "|  1.0|        20.0|(3,[0],[1.0])|(3,[2],[1.0])| (3,[0],[1.0])|    (3,[0],[1.0])|\n",
      "|  1.0|        21.0|(3,[0],[1.0])|(3,[0],[1.0])| (3,[2],[1.0])|    (3,[0],[1.0])|\n",
      "+-----+------------+-------------+-------------+--------------+-----------------+\n",
      "only showing top 3 rows\n",
      "\n",
      "Cluster1\n",
      "+-----+------------+-------------+-------------+--------------+-----------------+\n",
      "|stars|review_count|     Take-out|GoodFor_lunch|GoodFor_dinner|GoodFor_breakfast|\n",
      "+-----+------------+-------------+-------------+--------------+-----------------+\n",
      "|  1.0|      2818.0|(3,[0],[1.0])|(3,[0],[1.0])| (3,[2],[1.0])|    (3,[0],[1.0])|\n",
      "|  1.0|      2442.0|(3,[2],[1.0])|(3,[0],[1.0])| (3,[2],[1.0])|    (3,[0],[1.0])|\n",
      "|  1.0|      5642.0|(3,[2],[1.0])|(3,[0],[1.0])| (3,[2],[1.0])|    (3,[0],[1.0])|\n",
      "+-----+------------+-------------+-------------+--------------+-----------------+\n",
      "only showing top 3 rows\n",
      "\n",
      "Cluster2\n",
      "+-----+------------+-------------+-------------+--------------+-----------------+\n",
      "|stars|review_count|     Take-out|GoodFor_lunch|GoodFor_dinner|GoodFor_breakfast|\n",
      "+-----+------------+-------------+-------------+--------------+-----------------+\n",
      "|  1.0|      1087.0|(3,[0],[1.0])|(3,[0],[1.0])| (3,[2],[1.0])|    (3,[0],[1.0])|\n",
      "|  1.0|       888.0|(3,[0],[1.0])|(3,[2],[1.0])| (3,[0],[1.0])|    (3,[0],[1.0])|\n",
      "|  1.0|      1907.0|(3,[0],[1.0])|(3,[0],[1.0])| (3,[0],[1.0])|    (3,[0],[1.0])|\n",
      "+-----+------------+-------------+-------------+--------------+-----------------+\n",
      "only showing top 3 rows\n",
      "\n",
      "Cluster3\n",
      "+-----+------------+-------------+-------------+--------------+-----------------+\n",
      "|stars|review_count|     Take-out|GoodFor_lunch|GoodFor_dinner|GoodFor_breakfast|\n",
      "+-----+------------+-------------+-------------+--------------+-----------------+\n",
      "|  1.0|       420.0|(3,[0],[1.0])|(3,[2],[1.0])| (3,[0],[1.0])|    (3,[0],[1.0])|\n",
      "|  1.0|       582.0|(3,[0],[1.0])|(3,[2],[1.0])| (3,[2],[1.0])|    (3,[0],[1.0])|\n",
      "|  1.0|       375.0|(3,[0],[1.0])|(3,[0],[1.0])| (3,[0],[1.0])|    (3,[2],[1.0])|\n",
      "+-----+------------+-------------+-------------+--------------+-----------------+\n",
      "only showing top 3 rows\n",
      "\n",
      "Cluster4\n",
      "+-----+------------+-------------+-------------+--------------+-----------------+\n",
      "|stars|review_count|     Take-out|GoodFor_lunch|GoodFor_dinner|GoodFor_breakfast|\n",
      "+-----+------------+-------------+-------------+--------------+-----------------+\n",
      "|  1.0|       124.0|(3,[0],[1.0])|(3,[0],[1.0])| (3,[2],[1.0])|    (3,[0],[1.0])|\n",
      "|  1.0|        99.0|(3,[0],[1.0])|(3,[2],[1.0])| (3,[2],[1.0])|    (3,[0],[1.0])|\n",
      "|  1.0|       106.0|(3,[0],[1.0])|(3,[0],[1.0])| (3,[0],[1.0])|    (3,[2],[1.0])|\n",
      "+-----+------------+-------------+-------------+--------------+-----------------+\n",
      "only showing top 3 rows\n",
      "\n"
     ]
    }
   ],
   "source": [
    "# Look at the features of each cluster\n",
    "\n",
    "# define dictionary\n",
    "customerCluster = {}\n",
    "for i in range(0,knum):\n",
    "    tmp = prediction.select(\"stars\",\"review_count\",\"Take-out\",\"GoodFor_lunch\", \"GoodFor_dinner\", \"GoodFor_breakfast\")\\\n",
    "                                    .where(\"cluster =\" +  str(i))\n",
    "    customerCluster[str(i)]= tmp\n",
    "    print (\"Cluster\"+str(i))\n",
    "    customerCluster[str(i)].show(3)"
   ]
  },
  {
   "cell_type": "code",
   "execution_count": 11,
   "id": "da3e75bc",
   "metadata": {},
   "outputs": [],
   "source": [
    "import IPython\n",
    "# Numpy is a library for working with Arrays\n",
    "import numpy as np\n",
    "# SciPy implements many different numerical algorithms\n",
    "import scipy as sp\n",
    "# Pandas makes working with data tables easier\n",
    "import pandas as pd\n",
    "# Module for plotting\n",
    "import matplotlib\n",
    "# SciKit Learn implements several Machine Learning algorithms\n",
    "import sklearn\n"
   ]
  },
  {
   "cell_type": "code",
   "execution_count": 12,
   "id": "d63c5f60",
   "metadata": {},
   "outputs": [],
   "source": [
    "import pandas as pd\n",
    "import numpy as np\n",
    "import matplotlib.pyplot as plt"
   ]
  },
  {
   "cell_type": "code",
   "execution_count": 16,
   "id": "d9cafaf2",
   "metadata": {},
   "outputs": [
    {
     "data": {
      "image/png": "[encoded data removed]",
      "text/plain": [
       "<Figure size 800x600 with 1 Axes>"
      ]
     },
     "metadata": {},
     "output_type": "display_data"
    }
   ],
   "source": [
    "import matplotlib.pyplot as plt\n",
    "\n",
    "# Group by 'cluster' and calculate the count\n",
    "grouped = prediction.groupBy(\"cluster\").count().orderBy(\"cluster\").toPandas()\n",
    "\n",
    "# Plot the counts\n",
    "plt.figure(figsize=(8, 6))\n",
    "plt.bar(grouped[\"cluster\"], grouped[\"count\"])\n",
    "plt.xlabel(\"Cluster\")\n",
    "plt.ylabel(\"Count\")\n",
    "plt.title(\"Counts of Each Cluster\")\n",
    "plt.show()\n"
   ]
  },
  {
   "cell_type": "code",
   "execution_count": 19,
   "id": "52da704e",
   "metadata": {},
   "outputs": [
    {
     "data": {
      "image/png": "[encoded data removed]",
      "text/plain": [
       "<Figure size 800x600 with 1 Axes>"
      ]
     },
     "metadata": {},
     "output_type": "display_data"
    }
   ],
   "source": [
    "import matplotlib.pyplot as plt\n",
    "from sklearn.decomposition import PCA\n",
    "\n",
    "# Extract the cluster and feature columns from the prediction DataFrame\n",
    "clusters = prediction.select(\"cluster\").toPandas()[\"cluster\"]\n",
    "features = prediction.select(\"features\").toPandas()[\"features\"]\n",
    "\n",
    "# Convert the features to a list of arrays\n",
    "features_list = [row.toArray() for row in features]\n",
    "\n",
    "# Perform PCA for dimensionality reduction\n",
    "pca = PCA(n_components=2)\n",
    "reduced_features = pca.fit_transform(features_list)\n",
    "\n",
    "# Extract the reduced dimensions\n",
    "x_values = reduced_features[:, 0]\n",
    "y_values = reduced_features[:, 1]\n",
    "\n",
    "# Create a scatter plot\n",
    "plt.figure(figsize=(8, 6))\n",
    "plt.scatter(x_values, y_values, c=clusters)\n",
    "plt.xlabel(\"Principal Component 1\")\n",
    "plt.ylabel(\"Principal Component 2\")\n",
    "plt.title(\"Clusters (PCA)\")\n",
    "plt.show()\n"
   ]
  },
  {
   "cell_type": "code",
   "execution_count": 20,
   "id": "85e15187",
   "metadata": {},
   "outputs": [
    {
     "data": {
      "image/png": "[encoded data removed]",
      "text/plain": [
       "<Figure size 800x600 with 1 Axes>"
      ]
     },
     "metadata": {},
     "output_type": "display_data"
    }
   ],
   "source": [
    "import matplotlib.pyplot as plt\n",
    "\n",
    "# Group by 'cluster' and calculate the count\n",
    "grouped = prediction.groupBy(\"cluster\").count().orderBy(\"cluster\").toPandas()\n",
    "\n",
    "# Create a pie chart\n",
    "plt.figure(figsize=(8, 6))\n",
    "plt.pie(grouped[\"count\"], labels=grouped[\"cluster\"], autopct='%1.1f%%')\n",
    "plt.title(\"Cluster Distribution\")\n",
    "plt.show()\n"
   ]
  },
  {
   "cell_type": "code",
   "execution_count": null,
   "id": "6bf85776",
   "metadata": {},
   "outputs": [],
   "source": []
  },
  {
   "cell_type": "code",
   "execution_count": null,
   "id": "31d483dd",
   "metadata": {},
   "outputs": [],
   "source": []
  }
 ],
 "metadata": {
  "kernelspec": {
   "display_name": "Python 3 (ipykernel)",
   "language": "python",
   "name": "python3"
  },
  "language_info": {
   "codemirror_mode": {
    "name": "ipython",
    "version": 3
   },
   "file_extension": ".py",
   "mimetype": "text/x-python",
   "name": "python",
   "nbconvert_exporter": "python",
   "pygments_lexer": "ipython3",
   "version": "3.10.9"
  }
 },
 "nbformat": 4,
 "nbformat_minor": 5
}
